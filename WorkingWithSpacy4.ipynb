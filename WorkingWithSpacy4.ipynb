{
 "cells": [
  {
   "cell_type": "code",
   "execution_count": 1,
   "id": "2b36550c-0ccd-4ccb-9d5d-01d7252ff470",
   "metadata": {},
   "outputs": [],
   "source": [
    "import spacy\n",
    "from spacy.matcher import Matcher"
   ]
  },
  {
   "cell_type": "code",
   "execution_count": 2,
   "id": "64e4db77-549d-46ab-9589-087805e2fdfc",
   "metadata": {},
   "outputs": [],
   "source": [
    "nlp = spacy.load(\"en_core_web_sm\")"
   ]
  },
  {
   "cell_type": "code",
   "execution_count": 3,
   "id": "3c6cae94-258d-4d85-943a-3fe056d11f69",
   "metadata": {},
   "outputs": [],
   "source": [
    "matcher = Matcher(nlp.vocab)\n",
    "pattern = [{\"LIKE_EMAIL\":True}]\n",
    "matcher.add(\"EMAIL_ADDRESS\",[pattern])"
   ]
  },
  {
   "cell_type": "code",
   "execution_count": 4,
   "id": "fd919a32-87d0-4565-84b2-bb998daf6bc2",
   "metadata": {},
   "outputs": [],
   "source": [
    "doc = nlp(\"This my email address: myemailid@yandex.com\")"
   ]
  },
  {
   "cell_type": "code",
   "execution_count": 5,
   "id": "369345af-e02b-44dd-8dd1-a621c85a6f83",
   "metadata": {},
   "outputs": [],
   "source": [
    "matches = matcher(doc)"
   ]
  },
  {
   "cell_type": "code",
   "execution_count": 6,
   "id": "7e0fa595-4d46-4717-a8ac-f2e9c6cbfc53",
   "metadata": {},
   "outputs": [
    {
     "name": "stdout",
     "output_type": "stream",
     "text": [
      "[(16571425990740197027, 5, 6)]\n"
     ]
    }
   ],
   "source": [
    "print(matches)"
   ]
  },
  {
   "cell_type": "code",
   "execution_count": 7,
   "id": "3ac8b7a3-f327-4b79-bba8-0029bbdb1d7e",
   "metadata": {},
   "outputs": [
    {
     "data": {
      "text/plain": [
       "'EMAIL_ADDRESS'"
      ]
     },
     "execution_count": 7,
     "metadata": {},
     "output_type": "execute_result"
    }
   ],
   "source": [
    "nlp.vocab[matches[0][0]].text"
   ]
  },
  {
   "cell_type": "code",
   "execution_count": 8,
   "id": "6107456b-3d27-4b2c-a26a-6a7c35d5fecc",
   "metadata": {},
   "outputs": [
    {
     "name": "stdout",
     "output_type": "stream",
     "text": [
      "(16571425990740197027, 5, 6) myemailid@yandex.com\n"
     ]
    }
   ],
   "source": [
    " for match in matches:\n",
    "        print(match,doc[match[1]:match[2]])"
   ]
  },
  {
   "cell_type": "code",
   "execution_count": 9,
   "id": "52757a28-7530-4102-9ebe-8ec702a32066",
   "metadata": {},
   "outputs": [],
   "source": [
    "with open(r\"C:\\Users\\muthuraj.jayaseelan\\wiki_mlk.txt\",\"r\") as f:\n",
    "    text = f.read()"
   ]
  },
  {
   "cell_type": "code",
   "execution_count": 10,
   "id": "76e75564-2b55-4e34-98cd-37a9eed64d5e",
   "metadata": {},
   "outputs": [
    {
     "name": "stdout",
     "output_type": "stream",
     "text": [
      "Martin Luther King Jr. (born Michael King Jr.; January 15, 1929 â€“ April 4, 1968) was an American Baptist minister and activist who became the most visible spokesman and leader in the civil rights movement from 1955 until his assassination in 1968. An African American church leader and the son of early civil rights activist and minister Martin Luther King Sr., King advanced civil rights for people of color in the United States through nonviolence and civil disobedience. Inspired by his Christian beliefs and the nonviolent activism of Mahatma Gandhi, he led targeted, nonviolent resistance against Jim Crow laws and other forms of discrimination.\n",
      "\n",
      "King participated in and led marches for the right to vote, desegregation, labor rights, and other civil rights.[1] He oversaw the 1955 Montgomery bus boycott and later became the first president of the Southern Christian Leadership Conference (SCLC). As president of the SCLC, he led the unsuccessful Albany Movement in Albany, Georgia, and helped organize some of the nonviolent 1963 protests in Birmingham, Alabama. King was one of the leaders of the 1963 March on Washington, where he delivered his \"I Have a Dream\" speech on the steps of the Lincoln Memorial. The civil rights movement achieved pivotal legislative gains in the Civil Rights Act of 1964, Voting Rights Act of 1965, and the Fair Housing Act of 1968.\n",
      "\n",
      "The SCLC put into practice the tactics of nonviolent protest with some success by strategically choosing the methods and places in which protests were carried out. There were several dramatic stand-offs with segregationist authorities, who sometimes turned violent.[2] Several times King would be jailed. Federal Bureau of Investigation (FBI) Director J. Edgar Hoover considered King a radical and made him an object of the FBI's COINTELPRO from 1963, forward. FBI agents investigated him for possible communist ties, spied on his personal life, and secretly recorded him. The FBI in 1964 mailed King a threatening anonymous letter, which he interpreted as an attempt to make him commit suicide.[3]\n",
      "\n",
      "On October 14, 1964, King won the Nobel Peace Prize for combating racial inequality through nonviolent resistance. In 1965, he helped organize two of the three Selma to Montgomery marches. In his final years, he expanded his focus to include opposition towards poverty, capitalism, and the Vietnam War. In 1968, King was planning a national occupation of Washington, D.C., to be called the Poor People's Campaign, when he was assassinated on April 4 in Memphis, Tennessee. His death was followed by national mourning, as well as anger leading to riots in many U.S. cities. King was posthumously awarded the Presidential Medal of Freedom in 1977 and the Congressional Gold Medal in 2003. Martin Luther King Jr. Day was established as a holiday in cities and states throughout the United States beginning in 1971; the holiday was enacted at the federal level by legislation signed by President Ronald Reagan in 1986. Hundreds of streets in the U.S. have been renamed in his honor, and the most populous county in Washington State was rededicated for him. The Martin Luther King Jr. Memorial on the National Mall in Washington, D.C., was dedicated in 2011.\n"
     ]
    }
   ],
   "source": [
    "print(text)"
   ]
  },
  {
   "cell_type": "code",
   "execution_count": 11,
   "id": "eb8cd1ae-301a-45f2-958c-833a07373442",
   "metadata": {},
   "outputs": [],
   "source": [
    "nlp = spacy.load(\"en_core_web_sm\")"
   ]
  },
  {
   "cell_type": "code",
   "execution_count": 12,
   "id": "02932e23-224c-4eec-83fc-101cc8f29c11",
   "metadata": {},
   "outputs": [],
   "source": [
    "matcher = Matcher(nlp.vocab)\n",
    "pattern = [{\"POS\":\"PROPN\"}]\n",
    "matcher.add(\"Proper Noun\",[pattern])\n",
    "doc = nlp(text)"
   ]
  },
  {
   "cell_type": "code",
   "execution_count": 13,
   "id": "86546a30-0755-46f9-ac3f-c83054dda141",
   "metadata": {},
   "outputs": [],
   "source": [
    "matches = matcher(doc)"
   ]
  },
  {
   "cell_type": "code",
   "execution_count": 14,
   "id": "790bf26e-1206-4b23-abdd-1dd2dc05429f",
   "metadata": {},
   "outputs": [
    {
     "name": "stdout",
     "output_type": "stream",
     "text": [
      "112\n"
     ]
    }
   ],
   "source": [
    "print(len(matches))"
   ]
  },
  {
   "cell_type": "code",
   "execution_count": 15,
   "id": "901d47c7-f66d-4023-94ce-904562f766bd",
   "metadata": {},
   "outputs": [
    {
     "name": "stdout",
     "output_type": "stream",
     "text": [
      "(9100525292890760450, 0, 1) Martin\n",
      "(9100525292890760450, 1, 2) Luther\n",
      "(9100525292890760450, 2, 3) King\n",
      "(9100525292890760450, 3, 4) Jr.\n",
      "(9100525292890760450, 6, 7) Michael\n",
      "(9100525292890760450, 7, 8) King\n",
      "(9100525292890760450, 8, 9) Jr.\n",
      "(9100525292890760450, 10, 11) January\n",
      "(9100525292890760450, 16, 17) April\n",
      "(9100525292890760450, 24, 25) Baptist\n"
     ]
    }
   ],
   "source": [
    "for match in matches[:10]:\n",
    "    print(match,doc[match[1]:match[2]])"
   ]
  },
  {
   "cell_type": "code",
   "execution_count": 16,
   "id": "026309a1-3908-4398-9b93-fe51a25919b6",
   "metadata": {},
   "outputs": [
    {
     "name": "stdout",
     "output_type": "stream",
     "text": [
      "(9100525292890760450, 0, 1) Martin\n",
      "(9100525292890760450, 0, 2) Martin Luther\n",
      "(9100525292890760450, 1, 2) Luther\n",
      "(9100525292890760450, 0, 3) Martin Luther King\n",
      "(9100525292890760450, 1, 3) Luther King\n",
      "(9100525292890760450, 2, 3) King\n",
      "(9100525292890760450, 0, 4) Martin Luther King Jr.\n",
      "(9100525292890760450, 1, 4) Luther King Jr.\n",
      "(9100525292890760450, 2, 4) King Jr.\n",
      "(9100525292890760450, 3, 4) Jr.\n",
      "(9100525292890760450, 6, 7) Michael\n",
      "(9100525292890760450, 6, 8) Michael King\n",
      "(9100525292890760450, 7, 8) King\n",
      "(9100525292890760450, 6, 9) Michael King Jr.\n",
      "(9100525292890760450, 7, 9) King Jr.\n",
      "(9100525292890760450, 8, 9) Jr.\n",
      "(9100525292890760450, 10, 11) January\n",
      "(9100525292890760450, 16, 17) April\n",
      "(9100525292890760450, 24, 25) Baptist\n",
      "(9100525292890760450, 39, 40) rights\n"
     ]
    }
   ],
   "source": [
    "matcher = Matcher(nlp.vocab)\n",
    "pattern = [{\"POS\":\"PROPN\",\"OP\":\"+\"}]\n",
    "matcher.add(\"Proper Noun\",[pattern])\n",
    "doc = nlp(text)\n",
    "matches = matcher(doc)\n",
    "for match in matches[:20]:\n",
    "    print(match,doc[match[1]:match[2]])"
   ]
  },
  {
   "cell_type": "code",
   "execution_count": 17,
   "id": "8b0d67c7-2d1d-4b77-b91a-43eb786c2b87",
   "metadata": {},
   "outputs": [
    {
     "name": "stdout",
     "output_type": "stream",
     "text": [
      "(9100525292890760450, 64, 69) Martin Luther King Sr.\n",
      "(9100525292890760450, 512, 517) Martin Luther King Jr. Day\n",
      "(9100525292890760450, 579, 584) Martin Luther King Jr. Memorial\n",
      "(9100525292890760450, 0, 4) Martin Luther King Jr.\n",
      "(9100525292890760450, 155, 159) Southern Christian Leadership Conference\n",
      "(9100525292890760450, 314, 318) Director J. Edgar Hoover\n",
      "(9100525292890760450, 6, 9) Michael King Jr.\n",
      "(9100525292890760450, 236, 239) Civil Rights Act\n",
      "(9100525292890760450, 242, 245) Voting Rights Act\n",
      "(9100525292890760450, 250, 253) Fair Housing Act\n",
      "(9100525292890760450, 390, 393) Nobel Peace Prize\n",
      "(9100525292890760450, 506, 509) Congressional Gold Medal\n",
      "(9100525292890760450, 546, 549) President Ronald Reagan\n",
      "(9100525292890760450, 80, 82) United States\n",
      "(9100525292890760450, 98, 100) Mahatma Gandhi\n",
      "(9100525292890760450, 108, 110) Jim Crow\n",
      "(9100525292890760450, 173, 175) Albany Movement\n",
      "(9100525292890760450, 223, 225) Lincoln Memorial\n",
      "(9100525292890760450, 307, 309) Federal Bureau\n",
      "(9100525292890760450, 435, 437) Vietnam War\n"
     ]
    }
   ],
   "source": [
    "matcher = Matcher(nlp.vocab)\n",
    "pattern = [{\"POS\":\"PROPN\",\"OP\":\"+\"}]\n",
    "matcher.add(\"Proper Noun\",[pattern],greedy=\"LONGEST\")\n",
    "doc = nlp(text)\n",
    "matches = matcher(doc)\n",
    "for match in matches[:20]:\n",
    "    print(match,doc[match[1]:match[2]])"
   ]
  },
  {
   "cell_type": "code",
   "execution_count": 18,
   "id": "f250d504-4893-465a-aed1-d87d6a443cb6",
   "metadata": {},
   "outputs": [
    {
     "name": "stdout",
     "output_type": "stream",
     "text": [
      "(9100525292890760450, 0, 4) Martin Luther King Jr.\n",
      "(9100525292890760450, 6, 9) Michael King Jr.\n",
      "(9100525292890760450, 10, 11) January\n",
      "(9100525292890760450, 16, 17) April\n",
      "(9100525292890760450, 24, 25) Baptist\n",
      "(9100525292890760450, 39, 40) rights\n",
      "(9100525292890760450, 64, 69) Martin Luther King Sr.\n",
      "(9100525292890760450, 70, 71) King\n",
      "(9100525292890760450, 80, 82) United States\n",
      "(9100525292890760450, 98, 100) Mahatma Gandhi\n",
      "(9100525292890760450, 108, 110) Jim Crow\n",
      "(9100525292890760450, 118, 119) King\n",
      "(9100525292890760450, 144, 145) Montgomery\n",
      "(9100525292890760450, 155, 159) Southern Christian Leadership Conference\n",
      "(9100525292890760450, 160, 161) SCLC\n",
      "(9100525292890760450, 167, 168) SCLC\n",
      "(9100525292890760450, 173, 175) Albany Movement\n",
      "(9100525292890760450, 176, 177) Albany\n",
      "(9100525292890760450, 178, 179) Georgia\n",
      "(9100525292890760450, 190, 191) Birmingham\n"
     ]
    }
   ],
   "source": [
    "matcher = Matcher(nlp.vocab)\n",
    "pattern = [{\"POS\":\"PROPN\",\"OP\":\"+\"}]\n",
    "matcher.add(\"Proper Noun\",[pattern],greedy=\"LONGEST\")\n",
    "doc = nlp(text)\n",
    "matches = matcher(doc)\n",
    "matches.sort(key=lambda x:x[1])\n",
    "for match in matches[:20]:\n",
    "    print(match,doc[match[1]:match[2]])"
   ]
  },
  {
   "cell_type": "code",
   "execution_count": 19,
   "id": "50337c6f-d6ce-413d-9a33-9d6b70b904be",
   "metadata": {},
   "outputs": [
    {
     "name": "stdout",
     "output_type": "stream",
     "text": [
      "(9100525292890760450, 70, 72) King advanced\n",
      "(9100525292890760450, 118, 120) King participated\n",
      "(9100525292890760450, 314, 319) Director J. Edgar Hoover considered\n",
      "(9100525292890760450, 387, 389) King won\n",
      "(9100525292890760450, 528, 531) United States beginning\n"
     ]
    }
   ],
   "source": [
    "matcher = Matcher(nlp.vocab)\n",
    "pattern = [{\"POS\":\"PROPN\",\"OP\":\"+\"},{\"POS\":\"VERB\"}]\n",
    "matcher.add(\"Proper Noun\",[pattern],greedy=\"LONGEST\")\n",
    "doc = nlp(text)\n",
    "matches = matcher(doc)\n",
    "matches.sort(key=lambda x:x[1])\n",
    "for match in matches[:20]:\n",
    "    print(match,doc[match[1]:match[2]])"
   ]
  },
  {
   "cell_type": "code",
   "execution_count": 20,
   "id": "af44d7b4-385e-4fe0-826d-a20ac431521e",
   "metadata": {},
   "outputs": [],
   "source": [
    "import json\n",
    "with open (r\"C:\\Users\\muthuraj.jayaseelan\\alice.json\",\"r\") as f:\n",
    "    data = json.load(f)"
   ]
  },
  {
   "cell_type": "code",
   "execution_count": 21,
   "id": "4d2487ca-51a0-4c86-9d9e-83aa6f02e064",
   "metadata": {},
   "outputs": [
    {
     "name": "stdout",
     "output_type": "stream",
     "text": [
      "Alice was beginning to get very tired of sitting by her sister on the bank, and of having nothing to do: once or twice she had peeped into the book her sister was reading, but it had no pictures or conversations in it, `and what is the use of a book,' thought Alice `without pictures or conversation?'\n"
     ]
    }
   ],
   "source": [
    "text = data[0][2][0]\n",
    "print(text)"
   ]
  },
  {
   "cell_type": "code",
   "execution_count": 22,
   "id": "20f805c0-5c79-423f-9cb2-c2c54f7628c2",
   "metadata": {},
   "outputs": [],
   "source": [
    "text = text.replace(\"`\",\"'\") "
   ]
  },
  {
   "cell_type": "code",
   "execution_count": 23,
   "id": "db6f1862-015b-442b-b043-26d1f7cb41ee",
   "metadata": {},
   "outputs": [
    {
     "data": {
      "text/plain": [
       "\"Alice was beginning to get very tired of sitting by her sister on the bank, and of having nothing to do: once or twice she had peeped into the book her sister was reading, but it had no pictures or conversations in it, 'and what is the use of a book,' thought Alice 'without pictures or conversation?'\""
      ]
     },
     "execution_count": 23,
     "metadata": {},
     "output_type": "execute_result"
    }
   ],
   "source": [
    "text"
   ]
  },
  {
   "cell_type": "code",
   "execution_count": 24,
   "id": "be772713-8a6c-4d25-8621-d8650d153cf2",
   "metadata": {},
   "outputs": [
    {
     "name": "stdout",
     "output_type": "stream",
     "text": [
      "(9100525292890760450, 47, 67) 'and what is the use of a book,' thought Alice 'without pictures or conversation?'\n"
     ]
    }
   ],
   "source": [
    "speak_lemmas =[\"think\",\"say\"]\n",
    "\n",
    "matcher = Matcher(nlp.vocab)\n",
    "pattern = [{\"ORTH\":\"'\"},\n",
    "           {\"IS_ALPHA\":True,\"OP\":\"+\"},\n",
    "          {\"IS_PUNCT\":True,\"OP\":\"*\"},\n",
    "          {\"ORTH\":\"'\"},\n",
    "          {\"POS\":\"VERB\",\"LEMMA\":{\"IN\":speak_lemmas}},\n",
    "          {\"POS\":\"PROPN\",\"OP\":\"+\"},\n",
    "          {\"ORTH\":\"'\"},\n",
    "           {\"IS_ALPHA\":True,\"OP\":\"+\"},\n",
    "          {\"IS_PUNCT\":True,\"OP\":\"*\"},\n",
    "          {\"ORTH\":\"'\"}]\n",
    "matcher.add(\"Proper Noun\",[pattern],greedy=\"LONGEST\")\n",
    "doc = nlp(text)\n",
    "matches = matcher(doc)\n",
    "matches.sort(key=lambda x:x[1])\n",
    "for match in matches[:20]:\n",
    "    print(match,doc[match[1]:match[2]])"
   ]
  },
  {
   "cell_type": "code",
   "execution_count": 25,
   "id": "0eb03357-d702-4c50-b2d7-73efc1341cf7",
   "metadata": {},
   "outputs": [
    {
     "name": "stdout",
     "output_type": "stream",
     "text": [
      "1\n",
      "(3232560085755078826, 47, 67) 'and what is the use of a book,' thought Alice 'without pictures or conversation?'\n",
      "0\n",
      "0\n",
      "0\n",
      "0\n",
      "0\n",
      "1\n",
      "(3232560085755078826, 0, 6) 'Well!' thought Alice\n",
      "0\n",
      "0\n",
      "0\n",
      "0\n",
      "0\n",
      "0\n",
      "0\n",
      "1\n",
      "(3232560085755078826, 57, 68) 'which certainly was not here before,' said Alice\n",
      "0\n",
      "0\n"
     ]
    }
   ],
   "source": [
    "speak_lemmas = [\"think\", \"say\"]\n",
    "text = data[0][2][0].replace( \"`\", \"'\")\n",
    "matcher = Matcher(nlp.vocab)\n",
    "pattern1 = [{'ORTH': \"'\"}, {'IS_ALPHA': True, \"OP\": \"+\"}, {'IS_PUNCT': True, \"OP\": \"*\"}, {'ORTH': \"'\"}, {\"POS\": \"VERB\", \"LEMMA\": {\"IN\": speak_lemmas}}, {\"POS\": \"PROPN\", \"OP\": \"+\"}, {'ORTH': \"'\"}, {'IS_ALPHA': True, \"OP\": \"+\"}, {'IS_PUNCT': True, \"OP\": \"*\"}, {'ORTH': \"'\"}]\n",
    "pattern2 = [{'ORTH': \"'\"}, {'IS_ALPHA': True, \"OP\": \"+\"}, {'IS_PUNCT': True, \"OP\": \"*\"}, {'ORTH': \"'\"}, {\"POS\": \"VERB\", \"LEMMA\": {\"IN\": speak_lemmas}}, {\"POS\": \"PROPN\", \"OP\": \"+\"}]\n",
    "pattern3 = [{\"POS\": \"PROPN\", \"OP\": \"+\"},{\"POS\": \"VERB\", \"LEMMA\": {\"IN\": speak_lemmas}}, {'ORTH': \"'\"}, {'IS_ALPHA': True, \"OP\": \"+\"}, {'IS_PUNCT': True, \"OP\": \"*\"}, {'ORTH': \"'\"}]\n",
    "matcher.add(\"PROPER_NOUNS\", [pattern1, pattern2, pattern3], greedy='LONGEST')\n",
    "for text in data[0][2]:\n",
    "    text = text.replace(\"`\", \"'\")\n",
    "    doc = nlp(text)\n",
    "    matches = matcher(doc)\n",
    "    matches.sort(key = lambda x: x[1])\n",
    "    print (len(matches))\n",
    "    for match in matches[:10]:\n",
    "        print (match, doc[match[1]:match[2]])"
   ]
  },
  {
   "cell_type": "code",
   "execution_count": null,
   "id": "80a079a7-7f72-4818-b3ba-f90714b42447",
   "metadata": {},
   "outputs": [],
   "source": []
  }
 ],
 "metadata": {
  "kernelspec": {
   "display_name": "Python 3 (ipykernel)",
   "language": "python",
   "name": "python3"
  },
  "language_info": {
   "codemirror_mode": {
    "name": "ipython",
    "version": 3
   },
   "file_extension": ".py",
   "mimetype": "text/x-python",
   "name": "python",
   "nbconvert_exporter": "python",
   "pygments_lexer": "ipython3",
   "version": "3.9.7"
  }
 },
 "nbformat": 4,
 "nbformat_minor": 5
}
