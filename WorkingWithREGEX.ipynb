{
 "cells": [
  {
   "cell_type": "code",
   "execution_count": 3,
   "id": "e2ce1800-1ad0-4ce8-bf31-26970f0dcac2",
   "metadata": {},
   "outputs": [],
   "source": [
    "import re"
   ]
  },
  {
   "cell_type": "code",
   "execution_count": 37,
   "id": "0cb2eb5e",
   "metadata": {},
   "outputs": [],
   "source": [
    "text ='My name is Muthu Raj. My phone number  9988443356. You can also contact me using this number too (999)-123-1234'"
   ]
  },
  {
   "cell_type": "code",
   "execution_count": 38,
   "id": "c9c02749",
   "metadata": {},
   "outputs": [
    {
     "data": {
      "text/plain": [
       "'My name is Muthu Raj. My phone number  9988443356. You can also contact me using this number too (999)-123-1234'"
      ]
     },
     "execution_count": 38,
     "metadata": {},
     "output_type": "execute_result"
    }
   ],
   "source": [
    "text"
   ]
  },
  {
   "cell_type": "code",
   "execution_count": 39,
   "id": "b2a04ffc",
   "metadata": {},
   "outputs": [],
   "source": [
    "pattern='\\d{10}|\\(\\d{3}\\)-\\d{3}-\\d{4}'"
   ]
  },
  {
   "cell_type": "code",
   "execution_count": 40,
   "id": "9b9ec641",
   "metadata": {},
   "outputs": [],
   "source": [
    "matches = re.findall(pattern,text)"
   ]
  },
  {
   "cell_type": "code",
   "execution_count": 41,
   "id": "5cda9751",
   "metadata": {},
   "outputs": [
    {
     "data": {
      "text/plain": [
       "['9988443356', '(999)-123-1234']"
      ]
     },
     "execution_count": 41,
     "metadata": {},
     "output_type": "execute_result"
    }
   ],
   "source": [
    "matches"
   ]
  },
  {
   "cell_type": "code",
   "execution_count": 42,
   "id": "0597d2f6",
   "metadata": {},
   "outputs": [],
   "source": [
    "text2 = '''\n",
    "Note 1 – Overview\n",
    "Tesla, Inc. (“Tesla”, the “Company”, “we”, “us” or “our”) was incorporated in the State of Delaware on July 1, 2003. We design, develop, manufacture and sell high-performance fully electric vehicles and design, manufacture, install and sell solar energy generation and energy storage\n",
    "products. Our Chief Executive Officer, as the chief operating decision maker (“CODM”), organizes our company, manages resource allocations and measures performance among two operating and reportable segments: (i) automotive and (ii) energy generation and storage.\n",
    "There continues to be widespread impact from the COVID-19 pandemic. Beginning in the first quarter of 2021, there has been a trend in many\n",
    "parts of the world of increasing availability and administration of vaccines against COVID-19, as well as an easing of restrictions on social, business,\n",
    "travel and government activities and functions. On the other hand, infection rates and regulations continue to fluctuate in various regions and there are\n",
    "ongoing global impacts resulting from the pandemic, including challenges and increases in costs for logistics and supply chains, such as increased port\n",
    "congestion, intermittent supplier delays and a shortfall of semiconductor supply. We have also previously been, and are being, affected by temporary manufacturing closures, employment and compensation adjustments and impediments to administrative activities supporting our product deliveries and\n",
    "deployments.\n",
    "In addition, we have experienced and are experiencing varying levels of inflation resulting in part from various supply chain disruptions,\n",
    "increased shipping and transportation costs, increased raw material and labor costs and other disruptions caused by the COVID‐19 pandemic and\n",
    "general global economic conditions. The inflationary impact on our cost structure has contributed to adjustments in our product pricing, despite a\n",
    "continued focus on reducing our manufacturing costs where possible.\n",
    "Note 2 – Summary of Significant Accounting Policies\n",
    "Unaudited Interim Financial Statements\n",
    "The consolidated balance sheet as of March 31, 2022, the consolidated statements of operations, the consolidated statements of comprehensive\n",
    "income, the consolidated statements of redeemable noncontrolling interests and equity, and the consolidated statements of cash flows for the three months ended March 31, 2022 and 2021, as well as other information disclosed in the accompanying notes, are unaudited. The consolidated balance\n",
    "sheet as of December 31, 2021 was derived from the audited consolidated financial statements as of that date. The interim consolidated financial\n",
    "statements and the accompanying notes should be read in conjunction with the annual consolidated financial statements and the accompanying notes\n",
    "contained in our Annual Report on Form 10-K for the year ended December 31, 2021.\n",
    "'''"
   ]
  },
  {
   "cell_type": "code",
   "execution_count": 43,
   "id": "c1aa94e5",
   "metadata": {},
   "outputs": [],
   "source": [
    "pattern2 = 'Note \\d – ([^\\n]*)'"
   ]
  },
  {
   "cell_type": "code",
   "execution_count": 46,
   "id": "5f9bdd33",
   "metadata": {},
   "outputs": [],
   "source": [
    "matches2 =re.findall(pattern2,text2)"
   ]
  },
  {
   "cell_type": "code",
   "execution_count": 47,
   "id": "70c0ff38",
   "metadata": {},
   "outputs": [
    {
     "data": {
      "text/plain": [
       "['Overview', 'Summary of Significant Accounting Policies']"
      ]
     },
     "execution_count": 47,
     "metadata": {},
     "output_type": "execute_result"
    }
   ],
   "source": [
    "matches2"
   ]
  },
  {
   "cell_type": "markdown",
   "id": "7ca95719",
   "metadata": {},
   "source": [
    "# Extracting Fiscal Period from company's financial reporting"
   ]
  },
  {
   "cell_type": "code",
   "execution_count": 4,
   "id": "cf523296",
   "metadata": {},
   "outputs": [],
   "source": [
    "text3 = '''\n",
    "Operating Lease Vehicles\n",
    "The gross cost of operating lease vehicles as of FY2022 Q2 was $5.62 billion.\n",
    "Operating lease vehicles on the consolidated balance sheets are presented net of accumulated depreciation of FY2021 Q3 was $99.62 billion.\n",
    "'''"
   ]
  },
  {
   "cell_type": "code",
   "execution_count": 5,
   "id": "01a7109e",
   "metadata": {},
   "outputs": [
    {
     "data": {
      "text/plain": [
       "['FY2022 Q2', 'FY2021 Q3']"
      ]
     },
     "execution_count": 5,
     "metadata": {},
     "output_type": "execute_result"
    }
   ],
   "source": [
    "pattern3 = 'FY\\d{4} Q[1-4]'\n",
    "matches3 = re.findall(pattern3,text3,flags=re.IGNORECASE)\n",
    "matches3"
   ]
  },
  {
   "cell_type": "code",
   "execution_count": 6,
   "id": "100a8e00",
   "metadata": {},
   "outputs": [
    {
     "data": {
      "text/plain": [
       "[('2022 Q2', '5.62'), ('2021 Q3', '99.62')]"
      ]
     },
     "execution_count": 6,
     "metadata": {},
     "output_type": "execute_result"
    }
   ],
   "source": [
    "pattern4='FY(\\d{4} Q[1-4])[^\\$]+\\$([0-9\\.]+)'\n",
    "matches4=re.findall(pattern4,text3,flags=re.IGNORECASE)\n",
    "matches4"
   ]
  },
  {
   "cell_type": "code",
   "execution_count": null,
   "id": "3ff38192",
   "metadata": {},
   "outputs": [],
   "source": []
  }
 ],
 "metadata": {
  "kernelspec": {
   "display_name": "Python 3 (ipykernel)",
   "language": "python",
   "name": "python3"
  },
  "language_info": {
   "codemirror_mode": {
    "name": "ipython",
    "version": 3
   },
   "file_extension": ".py",
   "mimetype": "text/x-python",
   "name": "python",
   "nbconvert_exporter": "python",
   "pygments_lexer": "ipython3",
   "version": "3.9.7"
  }
 },
 "nbformat": 4,
 "nbformat_minor": 5
}
