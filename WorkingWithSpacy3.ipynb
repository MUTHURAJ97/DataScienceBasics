{
 "cells": [
  {
   "cell_type": "code",
   "execution_count": 1,
   "id": "428a02e0-049c-49f2-a546-e21c33f73d51",
   "metadata": {},
   "outputs": [],
   "source": [
    "import spacy"
   ]
  },
  {
   "cell_type": "code",
   "execution_count": 2,
   "id": "16c44f8d-c1c9-4bb0-a1ee-3a106e4cdc30",
   "metadata": {},
   "outputs": [],
   "source": [
    "nlp = spacy.load(\"en_core_web_sm\")\n",
    "text = \"West Chestertenfieldvillie was referenced in Mr.Deeds\""
   ]
  },
  {
   "cell_type": "code",
   "execution_count": 3,
   "id": "add68eb0-1c72-4b76-84f0-a70f19c88bde",
   "metadata": {},
   "outputs": [],
   "source": [
    "doc = nlp(text)"
   ]
  },
  {
   "cell_type": "code",
   "execution_count": 4,
   "id": "bca3f905-284c-4ba3-9a0b-8818d9afdc35",
   "metadata": {},
   "outputs": [
    {
     "name": "stdout",
     "output_type": "stream",
     "text": [
      "West Chestertenfieldvillie PERSON\n",
      "Deeds PERSON\n"
     ]
    }
   ],
   "source": [
    "for ent in doc.ents:\n",
    "    print(ent.text,ent.label_)"
   ]
  },
  {
   "cell_type": "code",
   "execution_count": 5,
   "id": "7f5c92ea-0720-4779-af79-9e94bd406bd0",
   "metadata": {},
   "outputs": [],
   "source": [
    "ruler = nlp.add_pipe(\"entity_ruler\")"
   ]
  },
  {
   "cell_type": "code",
   "execution_count": 6,
   "id": "9a0c05d8-9341-481b-8f85-b696135cd001",
   "metadata": {},
   "outputs": [
    {
     "data": {
      "text/plain": [
       "[('tok2vec', <spacy.pipeline.tok2vec.Tok2Vec at 0x1dae2ba73a0>),\n",
       " ('tagger', <spacy.pipeline.tagger.Tagger at 0x1dae2ba7e80>),\n",
       " ('parser', <spacy.pipeline.dep_parser.DependencyParser at 0x1dae28fbeb0>),\n",
       " ('attribute_ruler',\n",
       "  <spacy.pipeline.attributeruler.AttributeRuler at 0x1dae2c64340>),\n",
       " ('lemmatizer', <spacy.lang.en.lemmatizer.EnglishLemmatizer at 0x1dae2c72440>),\n",
       " ('ner', <spacy.pipeline.ner.EntityRecognizer at 0x1dae2b910b0>),\n",
       " ('entity_ruler', <spacy.pipeline.entityruler.EntityRuler at 0x1dadfca0800>)]"
      ]
     },
     "execution_count": 6,
     "metadata": {},
     "output_type": "execute_result"
    }
   ],
   "source": [
    "nlp.pipeline"
   ]
  },
  {
   "cell_type": "code",
   "execution_count": 7,
   "id": "fef1e879-4ec2-4a2a-9dfa-2d0b680f34bb",
   "metadata": {},
   "outputs": [
    {
     "data": {
      "text/plain": [
       "<spacy.pipeline.entityruler.EntityRuler at 0x1dadfca0800>"
      ]
     },
     "execution_count": 7,
     "metadata": {},
     "output_type": "execute_result"
    }
   ],
   "source": [
    "ruler"
   ]
  },
  {
   "cell_type": "code",
   "execution_count": 8,
   "id": "06ccdb2f-acf5-4484-bed8-0ab7eb77f07a",
   "metadata": {},
   "outputs": [],
   "source": [
    "patterns = [{\"label\": \"GPE\",\"pattern\":\"West Chestertenfieldvillie\"}]"
   ]
  },
  {
   "cell_type": "code",
   "execution_count": 9,
   "id": "932c0a39-e25d-4532-a650-6f7ba792660a",
   "metadata": {},
   "outputs": [],
   "source": [
    "ruler.add_patterns(patterns)"
   ]
  },
  {
   "cell_type": "code",
   "execution_count": 10,
   "id": "b8ad7aa8-9274-4346-8820-cf5666722c43",
   "metadata": {},
   "outputs": [
    {
     "name": "stdout",
     "output_type": "stream",
     "text": [
      "[('West Chestertenfieldvillie', 'PERSON'), ('Deeds', 'PERSON')]\n"
     ]
    }
   ],
   "source": [
    "doc2 = nlp(text)\n",
    "\n",
    "print([(ent.text,ent.label_) for ent in doc2.ents])"
   ]
  },
  {
   "cell_type": "code",
   "execution_count": 11,
   "id": "136ae6fd-79f1-4ae3-8c21-fde8d1506255",
   "metadata": {},
   "outputs": [],
   "source": [
    "nlp2 = spacy.load(\"en_core_web_sm\")"
   ]
  },
  {
   "cell_type": "code",
   "execution_count": 12,
   "id": "854f779b-e7f4-48dd-aaf5-d4e2d923524b",
   "metadata": {},
   "outputs": [],
   "source": [
    "ruler = nlp2.add_pipe(\"entity_ruler\",before=\"ner\")"
   ]
  },
  {
   "cell_type": "code",
   "execution_count": 13,
   "id": "cd9bf0d6-e4ab-40b8-b724-e1f8fdb7ae09",
   "metadata": {},
   "outputs": [],
   "source": [
    "ruler.add_patterns(patterns)"
   ]
  },
  {
   "cell_type": "code",
   "execution_count": 14,
   "id": "eb86d02b-3d46-4c69-94a5-ae2576d027a8",
   "metadata": {},
   "outputs": [
    {
     "name": "stdout",
     "output_type": "stream",
     "text": [
      "[('West Chestertenfieldvillie', 'GPE'), ('Deeds', 'PERSON')]\n"
     ]
    }
   ],
   "source": [
    "doc2 = nlp2(text)\n",
    "\n",
    "print([(ent.text,ent.label_) for ent in doc2.ents])"
   ]
  },
  {
   "cell_type": "code",
   "execution_count": 15,
   "id": "ef5867a3-918e-48a9-8126-3acaa59bbb0d",
   "metadata": {},
   "outputs": [
    {
     "data": {
      "text/plain": [
       "[('tok2vec', <spacy.pipeline.tok2vec.Tok2Vec at 0x1dae4894fa0>),\n",
       " ('tagger', <spacy.pipeline.tagger.Tagger at 0x1dae4894220>),\n",
       " ('parser', <spacy.pipeline.dep_parser.DependencyParser at 0x1dae330fb30>),\n",
       " ('attribute_ruler',\n",
       "  <spacy.pipeline.attributeruler.AttributeRuler at 0x1dae489ffc0>),\n",
       " ('lemmatizer', <spacy.lang.en.lemmatizer.EnglishLemmatizer at 0x1dae4898080>),\n",
       " ('entity_ruler', <spacy.pipeline.entityruler.EntityRuler at 0x1dae292ba00>),\n",
       " ('ner', <spacy.pipeline.ner.EntityRecognizer at 0x1dae330fac0>)]"
      ]
     },
     "execution_count": 15,
     "metadata": {},
     "output_type": "execute_result"
    }
   ],
   "source": [
    "nlp2.pipeline"
   ]
  },
  {
   "cell_type": "code",
   "execution_count": null,
   "id": "65f0b417-d348-4d46-ac42-de651d0f054b",
   "metadata": {},
   "outputs": [],
   "source": []
  }
 ],
 "metadata": {
  "kernelspec": {
   "display_name": "Python 3 (ipykernel)",
   "language": "python",
   "name": "python3"
  },
  "language_info": {
   "codemirror_mode": {
    "name": "ipython",
    "version": 3
   },
   "file_extension": ".py",
   "mimetype": "text/x-python",
   "name": "python",
   "nbconvert_exporter": "python",
   "pygments_lexer": "ipython3",
   "version": "3.9.7"
  }
 },
 "nbformat": 4,
 "nbformat_minor": 5
}
