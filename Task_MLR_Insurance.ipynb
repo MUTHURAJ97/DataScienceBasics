{
 "cells": [
  {
   "cell_type": "code",
   "execution_count": 1,
   "id": "cb054496",
   "metadata": {},
   "outputs": [],
   "source": [
    "import pandas as pd\n",
    "import numpy as np\n",
    "import matplotlib.pyplot as plt\n"
   ]
  },
  {
   "cell_type": "code",
   "execution_count": 3,
   "id": "aac676e9",
   "metadata": {},
   "outputs": [],
   "source": [
    "df = pd.read_csv(r\"C:\\Users\\muthuraj.jayaseelan\\insurance.csv\")"
   ]
  },
  {
   "cell_type": "code",
   "execution_count": 5,
   "id": "bd8e8807",
   "metadata": {},
   "outputs": [
    {
     "data": {
      "text/plain": [
       "(1338, 7)"
      ]
     },
     "execution_count": 5,
     "metadata": {},
     "output_type": "execute_result"
    }
   ],
   "source": [
    "df.shape"
   ]
  },
  {
   "cell_type": "code",
   "execution_count": 6,
   "id": "e21c491d",
   "metadata": {},
   "outputs": [
    {
     "data": {
      "text/plain": [
       "age           int64\n",
       "sex          object\n",
       "bmi         float64\n",
       "children      int64\n",
       "smoker       object\n",
       "region       object\n",
       "charges     float64\n",
       "dtype: object"
      ]
     },
     "execution_count": 6,
     "metadata": {},
     "output_type": "execute_result"
    }
   ],
   "source": [
    "df.dtypes"
   ]
  },
  {
   "cell_type": "code",
   "execution_count": 7,
   "id": "934aec7d",
   "metadata": {},
   "outputs": [
    {
     "data": {
      "text/html": [
       "<div>\n",
       "<style scoped>\n",
       "    .dataframe tbody tr th:only-of-type {\n",
       "        vertical-align: middle;\n",
       "    }\n",
       "\n",
       "    .dataframe tbody tr th {\n",
       "        vertical-align: top;\n",
       "    }\n",
       "\n",
       "    .dataframe thead th {\n",
       "        text-align: right;\n",
       "    }\n",
       "</style>\n",
       "<table border=\"1\" class=\"dataframe\">\n",
       "  <thead>\n",
       "    <tr style=\"text-align: right;\">\n",
       "      <th></th>\n",
       "      <th>age</th>\n",
       "      <th>sex</th>\n",
       "      <th>bmi</th>\n",
       "      <th>children</th>\n",
       "      <th>smoker</th>\n",
       "      <th>region</th>\n",
       "      <th>charges</th>\n",
       "    </tr>\n",
       "  </thead>\n",
       "  <tbody>\n",
       "    <tr>\n",
       "      <th>0</th>\n",
       "      <td>19</td>\n",
       "      <td>female</td>\n",
       "      <td>27.900</td>\n",
       "      <td>0</td>\n",
       "      <td>yes</td>\n",
       "      <td>southwest</td>\n",
       "      <td>16884.92400</td>\n",
       "    </tr>\n",
       "    <tr>\n",
       "      <th>1</th>\n",
       "      <td>18</td>\n",
       "      <td>male</td>\n",
       "      <td>33.770</td>\n",
       "      <td>1</td>\n",
       "      <td>no</td>\n",
       "      <td>southeast</td>\n",
       "      <td>1725.55230</td>\n",
       "    </tr>\n",
       "    <tr>\n",
       "      <th>2</th>\n",
       "      <td>28</td>\n",
       "      <td>male</td>\n",
       "      <td>33.000</td>\n",
       "      <td>3</td>\n",
       "      <td>no</td>\n",
       "      <td>southeast</td>\n",
       "      <td>4449.46200</td>\n",
       "    </tr>\n",
       "    <tr>\n",
       "      <th>3</th>\n",
       "      <td>33</td>\n",
       "      <td>male</td>\n",
       "      <td>22.705</td>\n",
       "      <td>0</td>\n",
       "      <td>no</td>\n",
       "      <td>northwest</td>\n",
       "      <td>21984.47061</td>\n",
       "    </tr>\n",
       "    <tr>\n",
       "      <th>4</th>\n",
       "      <td>32</td>\n",
       "      <td>male</td>\n",
       "      <td>28.880</td>\n",
       "      <td>0</td>\n",
       "      <td>no</td>\n",
       "      <td>northwest</td>\n",
       "      <td>3866.85520</td>\n",
       "    </tr>\n",
       "  </tbody>\n",
       "</table>\n",
       "</div>"
      ],
      "text/plain": [
       "   age     sex     bmi  children smoker     region      charges\n",
       "0   19  female  27.900         0    yes  southwest  16884.92400\n",
       "1   18    male  33.770         1     no  southeast   1725.55230\n",
       "2   28    male  33.000         3     no  southeast   4449.46200\n",
       "3   33    male  22.705         0     no  northwest  21984.47061\n",
       "4   32    male  28.880         0     no  northwest   3866.85520"
      ]
     },
     "execution_count": 7,
     "metadata": {},
     "output_type": "execute_result"
    }
   ],
   "source": [
    "df.head()"
   ]
  },
  {
   "cell_type": "code",
   "execution_count": 8,
   "id": "af53f4fb",
   "metadata": {},
   "outputs": [],
   "source": [
    "df['smoker']=df['smoker'].replace(['yes'],'1')\n",
    "df['smoker']=df['smoker'].replace(['no'],'0')\n",
    "df['sex']=df['sex'].replace(['male'],'1')\n",
    "df['sex']=df['sex'].replace(['female'],'0')"
   ]
  },
  {
   "cell_type": "code",
   "execution_count": 9,
   "id": "5fa52436",
   "metadata": {},
   "outputs": [
    {
     "data": {
      "text/html": [
       "<div>\n",
       "<style scoped>\n",
       "    .dataframe tbody tr th:only-of-type {\n",
       "        vertical-align: middle;\n",
       "    }\n",
       "\n",
       "    .dataframe tbody tr th {\n",
       "        vertical-align: top;\n",
       "    }\n",
       "\n",
       "    .dataframe thead th {\n",
       "        text-align: right;\n",
       "    }\n",
       "</style>\n",
       "<table border=\"1\" class=\"dataframe\">\n",
       "  <thead>\n",
       "    <tr style=\"text-align: right;\">\n",
       "      <th></th>\n",
       "      <th>age</th>\n",
       "      <th>sex</th>\n",
       "      <th>bmi</th>\n",
       "      <th>children</th>\n",
       "      <th>smoker</th>\n",
       "      <th>region</th>\n",
       "      <th>charges</th>\n",
       "    </tr>\n",
       "  </thead>\n",
       "  <tbody>\n",
       "    <tr>\n",
       "      <th>0</th>\n",
       "      <td>19</td>\n",
       "      <td>0</td>\n",
       "      <td>27.900</td>\n",
       "      <td>0</td>\n",
       "      <td>1</td>\n",
       "      <td>southwest</td>\n",
       "      <td>16884.92400</td>\n",
       "    </tr>\n",
       "    <tr>\n",
       "      <th>1</th>\n",
       "      <td>18</td>\n",
       "      <td>1</td>\n",
       "      <td>33.770</td>\n",
       "      <td>1</td>\n",
       "      <td>0</td>\n",
       "      <td>southeast</td>\n",
       "      <td>1725.55230</td>\n",
       "    </tr>\n",
       "    <tr>\n",
       "      <th>2</th>\n",
       "      <td>28</td>\n",
       "      <td>1</td>\n",
       "      <td>33.000</td>\n",
       "      <td>3</td>\n",
       "      <td>0</td>\n",
       "      <td>southeast</td>\n",
       "      <td>4449.46200</td>\n",
       "    </tr>\n",
       "    <tr>\n",
       "      <th>3</th>\n",
       "      <td>33</td>\n",
       "      <td>1</td>\n",
       "      <td>22.705</td>\n",
       "      <td>0</td>\n",
       "      <td>0</td>\n",
       "      <td>northwest</td>\n",
       "      <td>21984.47061</td>\n",
       "    </tr>\n",
       "    <tr>\n",
       "      <th>4</th>\n",
       "      <td>32</td>\n",
       "      <td>1</td>\n",
       "      <td>28.880</td>\n",
       "      <td>0</td>\n",
       "      <td>0</td>\n",
       "      <td>northwest</td>\n",
       "      <td>3866.85520</td>\n",
       "    </tr>\n",
       "  </tbody>\n",
       "</table>\n",
       "</div>"
      ],
      "text/plain": [
       "   age sex     bmi  children smoker     region      charges\n",
       "0   19   0  27.900         0      1  southwest  16884.92400\n",
       "1   18   1  33.770         1      0  southeast   1725.55230\n",
       "2   28   1  33.000         3      0  southeast   4449.46200\n",
       "3   33   1  22.705         0      0  northwest  21984.47061\n",
       "4   32   1  28.880         0      0  northwest   3866.85520"
      ]
     },
     "execution_count": 9,
     "metadata": {},
     "output_type": "execute_result"
    }
   ],
   "source": [
    "df.head()"
   ]
  },
  {
   "cell_type": "code",
   "execution_count": 11,
   "id": "5693af8e",
   "metadata": {},
   "outputs": [
    {
     "data": {
      "text/plain": [
       "array(['southwest', 'southeast', 'northwest', 'northeast'], dtype=object)"
      ]
     },
     "execution_count": 11,
     "metadata": {},
     "output_type": "execute_result"
    }
   ],
   "source": [
    "df['region'].unique()"
   ]
  },
  {
   "cell_type": "code",
   "execution_count": 16,
   "id": "86ac9d8d",
   "metadata": {},
   "outputs": [],
   "source": [
    "df['region']=(\n",
    "    df['region'].replace(['southwest'],'0')\n",
    "    .replace(['southeast'],'1')\n",
    "    .replace(['northwest'],'2')\n",
    "    .replace(['northeast'],'3')\n",
    ")"
   ]
  },
  {
   "cell_type": "code",
   "execution_count": 17,
   "id": "73352612",
   "metadata": {},
   "outputs": [
    {
     "data": {
      "text/html": [
       "<div>\n",
       "<style scoped>\n",
       "    .dataframe tbody tr th:only-of-type {\n",
       "        vertical-align: middle;\n",
       "    }\n",
       "\n",
       "    .dataframe tbody tr th {\n",
       "        vertical-align: top;\n",
       "    }\n",
       "\n",
       "    .dataframe thead th {\n",
       "        text-align: right;\n",
       "    }\n",
       "</style>\n",
       "<table border=\"1\" class=\"dataframe\">\n",
       "  <thead>\n",
       "    <tr style=\"text-align: right;\">\n",
       "      <th></th>\n",
       "      <th>age</th>\n",
       "      <th>sex</th>\n",
       "      <th>bmi</th>\n",
       "      <th>children</th>\n",
       "      <th>smoker</th>\n",
       "      <th>region</th>\n",
       "      <th>charges</th>\n",
       "    </tr>\n",
       "  </thead>\n",
       "  <tbody>\n",
       "    <tr>\n",
       "      <th>0</th>\n",
       "      <td>19</td>\n",
       "      <td>0</td>\n",
       "      <td>27.900</td>\n",
       "      <td>0</td>\n",
       "      <td>1</td>\n",
       "      <td>0</td>\n",
       "      <td>16884.92400</td>\n",
       "    </tr>\n",
       "    <tr>\n",
       "      <th>1</th>\n",
       "      <td>18</td>\n",
       "      <td>1</td>\n",
       "      <td>33.770</td>\n",
       "      <td>1</td>\n",
       "      <td>0</td>\n",
       "      <td>1</td>\n",
       "      <td>1725.55230</td>\n",
       "    </tr>\n",
       "    <tr>\n",
       "      <th>2</th>\n",
       "      <td>28</td>\n",
       "      <td>1</td>\n",
       "      <td>33.000</td>\n",
       "      <td>3</td>\n",
       "      <td>0</td>\n",
       "      <td>1</td>\n",
       "      <td>4449.46200</td>\n",
       "    </tr>\n",
       "    <tr>\n",
       "      <th>3</th>\n",
       "      <td>33</td>\n",
       "      <td>1</td>\n",
       "      <td>22.705</td>\n",
       "      <td>0</td>\n",
       "      <td>0</td>\n",
       "      <td>2</td>\n",
       "      <td>21984.47061</td>\n",
       "    </tr>\n",
       "    <tr>\n",
       "      <th>4</th>\n",
       "      <td>32</td>\n",
       "      <td>1</td>\n",
       "      <td>28.880</td>\n",
       "      <td>0</td>\n",
       "      <td>0</td>\n",
       "      <td>2</td>\n",
       "      <td>3866.85520</td>\n",
       "    </tr>\n",
       "  </tbody>\n",
       "</table>\n",
       "</div>"
      ],
      "text/plain": [
       "   age sex     bmi  children smoker region      charges\n",
       "0   19   0  27.900         0      1      0  16884.92400\n",
       "1   18   1  33.770         1      0      1   1725.55230\n",
       "2   28   1  33.000         3      0      1   4449.46200\n",
       "3   33   1  22.705         0      0      2  21984.47061\n",
       "4   32   1  28.880         0      0      2   3866.85520"
      ]
     },
     "execution_count": 17,
     "metadata": {},
     "output_type": "execute_result"
    }
   ],
   "source": [
    "df.head()"
   ]
  },
  {
   "cell_type": "code",
   "execution_count": 50,
   "id": "75cfaae3",
   "metadata": {},
   "outputs": [],
   "source": [
    "x = df.drop('charges',axis=1)\n",
    "y = df['charges']"
   ]
  },
  {
   "cell_type": "code",
   "execution_count": 59,
   "id": "d2b0ac5e",
   "metadata": {},
   "outputs": [
    {
     "data": {
      "text/html": [
       "<div>\n",
       "<style scoped>\n",
       "    .dataframe tbody tr th:only-of-type {\n",
       "        vertical-align: middle;\n",
       "    }\n",
       "\n",
       "    .dataframe tbody tr th {\n",
       "        vertical-align: top;\n",
       "    }\n",
       "\n",
       "    .dataframe thead th {\n",
       "        text-align: right;\n",
       "    }\n",
       "</style>\n",
       "<table border=\"1\" class=\"dataframe\">\n",
       "  <thead>\n",
       "    <tr style=\"text-align: right;\">\n",
       "      <th></th>\n",
       "      <th>age</th>\n",
       "      <th>sex</th>\n",
       "      <th>bmi</th>\n",
       "      <th>children</th>\n",
       "      <th>smoker</th>\n",
       "      <th>region</th>\n",
       "    </tr>\n",
       "  </thead>\n",
       "  <tbody>\n",
       "    <tr>\n",
       "      <th>0</th>\n",
       "      <td>19</td>\n",
       "      <td>0</td>\n",
       "      <td>27.900</td>\n",
       "      <td>0</td>\n",
       "      <td>1</td>\n",
       "      <td>0</td>\n",
       "    </tr>\n",
       "    <tr>\n",
       "      <th>1</th>\n",
       "      <td>18</td>\n",
       "      <td>1</td>\n",
       "      <td>33.770</td>\n",
       "      <td>1</td>\n",
       "      <td>0</td>\n",
       "      <td>1</td>\n",
       "    </tr>\n",
       "    <tr>\n",
       "      <th>2</th>\n",
       "      <td>28</td>\n",
       "      <td>1</td>\n",
       "      <td>33.000</td>\n",
       "      <td>3</td>\n",
       "      <td>0</td>\n",
       "      <td>1</td>\n",
       "    </tr>\n",
       "    <tr>\n",
       "      <th>3</th>\n",
       "      <td>33</td>\n",
       "      <td>1</td>\n",
       "      <td>22.705</td>\n",
       "      <td>0</td>\n",
       "      <td>0</td>\n",
       "      <td>2</td>\n",
       "    </tr>\n",
       "    <tr>\n",
       "      <th>4</th>\n",
       "      <td>32</td>\n",
       "      <td>1</td>\n",
       "      <td>28.880</td>\n",
       "      <td>0</td>\n",
       "      <td>0</td>\n",
       "      <td>2</td>\n",
       "    </tr>\n",
       "    <tr>\n",
       "      <th>...</th>\n",
       "      <td>...</td>\n",
       "      <td>...</td>\n",
       "      <td>...</td>\n",
       "      <td>...</td>\n",
       "      <td>...</td>\n",
       "      <td>...</td>\n",
       "    </tr>\n",
       "    <tr>\n",
       "      <th>1333</th>\n",
       "      <td>50</td>\n",
       "      <td>1</td>\n",
       "      <td>30.970</td>\n",
       "      <td>3</td>\n",
       "      <td>0</td>\n",
       "      <td>2</td>\n",
       "    </tr>\n",
       "    <tr>\n",
       "      <th>1334</th>\n",
       "      <td>18</td>\n",
       "      <td>0</td>\n",
       "      <td>31.920</td>\n",
       "      <td>0</td>\n",
       "      <td>0</td>\n",
       "      <td>3</td>\n",
       "    </tr>\n",
       "    <tr>\n",
       "      <th>1335</th>\n",
       "      <td>18</td>\n",
       "      <td>0</td>\n",
       "      <td>36.850</td>\n",
       "      <td>0</td>\n",
       "      <td>0</td>\n",
       "      <td>1</td>\n",
       "    </tr>\n",
       "    <tr>\n",
       "      <th>1336</th>\n",
       "      <td>21</td>\n",
       "      <td>0</td>\n",
       "      <td>25.800</td>\n",
       "      <td>0</td>\n",
       "      <td>0</td>\n",
       "      <td>0</td>\n",
       "    </tr>\n",
       "    <tr>\n",
       "      <th>1337</th>\n",
       "      <td>61</td>\n",
       "      <td>0</td>\n",
       "      <td>29.070</td>\n",
       "      <td>0</td>\n",
       "      <td>1</td>\n",
       "      <td>2</td>\n",
       "    </tr>\n",
       "  </tbody>\n",
       "</table>\n",
       "<p>1338 rows × 6 columns</p>\n",
       "</div>"
      ],
      "text/plain": [
       "      age sex     bmi  children smoker region\n",
       "0      19   0  27.900         0      1      0\n",
       "1      18   1  33.770         1      0      1\n",
       "2      28   1  33.000         3      0      1\n",
       "3      33   1  22.705         0      0      2\n",
       "4      32   1  28.880         0      0      2\n",
       "...   ...  ..     ...       ...    ...    ...\n",
       "1333   50   1  30.970         3      0      2\n",
       "1334   18   0  31.920         0      0      3\n",
       "1335   18   0  36.850         0      0      1\n",
       "1336   21   0  25.800         0      0      0\n",
       "1337   61   0  29.070         0      1      2\n",
       "\n",
       "[1338 rows x 6 columns]"
      ]
     },
     "execution_count": 59,
     "metadata": {},
     "output_type": "execute_result"
    }
   ],
   "source": [
    "x"
   ]
  },
  {
   "cell_type": "code",
   "execution_count": 60,
   "id": "4adb4e8e",
   "metadata": {},
   "outputs": [
    {
     "data": {
      "text/plain": [
       "0       16884.92400\n",
       "1        1725.55230\n",
       "2        4449.46200\n",
       "3       21984.47061\n",
       "4        3866.85520\n",
       "           ...     \n",
       "1333    10600.54830\n",
       "1334     2205.98080\n",
       "1335     1629.83350\n",
       "1336     2007.94500\n",
       "1337    29141.36030\n",
       "Name: charges, Length: 1338, dtype: float64"
      ]
     },
     "execution_count": 60,
     "metadata": {},
     "output_type": "execute_result"
    }
   ],
   "source": [
    "y"
   ]
  },
  {
   "cell_type": "code",
   "execution_count": 61,
   "id": "1fd9ac5f",
   "metadata": {},
   "outputs": [],
   "source": [
    "from sklearn.model_selection import train_test_split\n",
    "x_train,x_test,y_train,y_test = train_test_split(x,y)"
   ]
  },
  {
   "cell_type": "code",
   "execution_count": 62,
   "id": "75606faf",
   "metadata": {},
   "outputs": [
    {
     "data": {
      "text/plain": [
       "LinearRegression()"
      ]
     },
     "execution_count": 62,
     "metadata": {},
     "output_type": "execute_result"
    }
   ],
   "source": [
    "from sklearn.linear_model import LinearRegression\n",
    "regress = LinearRegression()\n",
    "regress.fit(x_train,y_train)"
   ]
  },
  {
   "cell_type": "code",
   "execution_count": 63,
   "id": "b51607ff",
   "metadata": {},
   "outputs": [
    {
     "name": "stdout",
     "output_type": "stream",
     "text": [
      "           Actual     Predicted\n",
      "838    6402.29135   6344.138158\n",
      "4      3866.85520   5503.857876\n",
      "114   11488.31695  14029.097835\n",
      "1137   3176.28770   1962.473182\n",
      "49    38709.17600  32531.578456\n",
      "...           ...           ...\n",
      "1054   3353.47030   1991.783912\n",
      "832    4719.73655   4156.609936\n",
      "1061  11554.22360  11965.681731\n",
      "195    1639.56310   2590.279986\n",
      "1272  14478.33015   9834.444443\n",
      "\n",
      "[335 rows x 2 columns]\n"
     ]
    }
   ],
   "source": [
    "#preditcion\n",
    "y_predict = regress.predict(x_test)\n",
    "datasetComparison = pd.DataFrame({'Actual':y_test,'Predicted':y_predict})\n",
    "print(datasetComparison)"
   ]
  },
  {
   "cell_type": "code",
   "execution_count": 64,
   "id": "809266a7",
   "metadata": {},
   "outputs": [
    {
     "data": {
      "text/plain": [
       "array([ 6.34413816e+03,  5.50385788e+03,  1.40290978e+04,  1.96247318e+03,\n",
       "        3.25315785e+04,  2.75962006e+04,  1.16355999e+04,  3.29701621e+03,\n",
       "        1.42734238e+04,  4.01207581e+04,  6.92853374e+03,  1.52019520e+04,\n",
       "        3.34047849e+04,  8.62419231e+03,  5.95921973e+03,  1.79440978e+04,\n",
       "        1.32009769e+04,  3.40265461e+04,  6.98349215e+03,  3.35999671e+04,\n",
       "        2.95731908e+04,  1.17214237e+04,  4.39605425e+02,  4.13260472e+02,\n",
       "        1.90493024e+03,  9.19233786e+03,  9.84688311e+03,  1.04916199e+04,\n",
       "        9.94464560e+03,  1.40019460e+04,  7.98531774e+03,  1.04946745e+04,\n",
       "        8.04395350e+03,  6.06830416e+03,  4.93994998e+03,  1.10213793e+04,\n",
       "        1.26303617e+04,  8.70008708e+03,  1.24232747e+04, -2.82472047e+01,\n",
       "        8.02631305e+03,  4.19671401e+03,  9.59529335e+03,  1.02126048e+04,\n",
       "        9.82103914e+03,  4.02425510e+04,  2.90369604e+04,  4.64022190e+03,\n",
       "        5.97767023e+03,  4.95980169e+03,  1.04576751e+04,  3.10153945e+04,\n",
       "        1.12777102e+04,  3.04626341e+04,  2.37605964e+03,  8.19091032e+03,\n",
       "        3.33252070e+04,  9.95634692e+03,  1.22013970e+04,  7.92668836e+03,\n",
       "        1.52368722e+04,  3.25347066e+03,  1.03040400e+04,  3.00733616e+04,\n",
       "        1.70799903e+04,  1.16259772e+04,  1.48135389e+04,  8.49343881e+03,\n",
       "        3.91729928e+04,  2.59014260e+03,  3.88647961e+03,  7.31687389e+03,\n",
       "        2.68342237e+03,  2.79744870e+03,  1.12006051e+04,  1.02299751e+04,\n",
       "        1.04418395e+04,  3.26883712e+04,  6.05709775e+03,  2.69864530e+04,\n",
       "        3.38988374e+04,  1.47380116e+04,  3.28199002e+03,  2.57041181e+03,\n",
       "        6.62110039e+03,  4.06089203e+03,  3.31869729e+03,  6.49075906e+03,\n",
       "        1.18565242e+04,  3.64147720e+04,  5.90371368e+03,  1.50798418e+04,\n",
       "        1.12164132e+04,  3.90254147e+04,  1.09644432e+04,  2.75449651e+04,\n",
       "        2.58111706e+04,  1.30636224e+04,  9.09299136e+03,  1.26299230e+04,\n",
       "        5.42654218e+03,  1.22450747e+04,  2.72139246e+04,  1.08660782e+04,\n",
       "        1.07408200e+04,  1.07618942e+04,  3.77944570e+03,  3.00888233e+04,\n",
       "        3.32620823e+03,  5.65346612e+03,  1.22943671e+04,  5.50683640e+02,\n",
       "        6.47091473e+03,  2.83070944e+04,  2.02640917e+02,  3.18789657e+04,\n",
       "        1.25277932e+04,  1.60839812e+04,  1.35140535e+04,  2.65201900e+04,\n",
       "        4.65520671e+03,  1.38280230e+04,  5.05889755e+03,  5.65191490e+03,\n",
       "        3.23299534e+03,  4.15829854e+03,  8.64324095e+03,  1.13026647e+04,\n",
       "        9.99530859e+03,  3.70920910e+04,  1.04692706e+04,  1.38041062e+04,\n",
       "        2.60478217e+04,  9.95888173e+03,  2.64357182e+04,  6.30842354e+03,\n",
       "        9.24443990e+03,  3.23206775e+04,  3.37500360e+04,  5.27704443e+03,\n",
       "        1.31527911e+04,  1.33632088e+04,  3.17110300e+04,  3.90387956e+03,\n",
       "        3.03333383e+04,  3.81630519e+04,  8.46334332e+03,  3.24397447e+04,\n",
       "        3.80239419e+04,  1.52244321e+04,  3.02863685e+04,  3.09217774e+04,\n",
       "        1.02648752e+04,  3.48815773e+04,  7.93832166e+03,  4.05327571e+04,\n",
       "        1.28654487e+04,  1.26265936e+04,  2.10686798e+03,  3.09011155e+04,\n",
       "        4.36743931e+03,  1.52785157e+03,  1.43812906e+04,  9.29929857e+03,\n",
       "        1.40592222e+04,  1.26654300e+04,  3.84831844e+03,  2.73136788e+04,\n",
       "        3.17080787e+03,  6.50549823e+03,  2.16353398e+03,  5.99576806e+03,\n",
       "        3.99655363e+03,  3.70156150e+04,  1.43160640e+04,  1.19688177e+04,\n",
       "        2.86255111e+04,  7.06476560e+03,  1.05688886e+04,  1.52194638e+04,\n",
       "        1.14362399e+04,  8.48153878e+03,  1.03746518e+04,  6.54342803e+03,\n",
       "        2.58947509e+04,  3.12908332e+04,  3.18177300e+04,  1.15937384e+04,\n",
       "        1.20183364e+04,  3.68206131e+04,  2.73855246e+03,  3.64852740e+04,\n",
       "        4.81990265e+03,  1.49429011e+04,  3.08181745e+04,  3.84062852e+04,\n",
       "        3.68803997e+04, -1.37752604e+03,  1.70054326e+03,  8.35212771e+03,\n",
       "        3.40175916e+04,  5.97633446e+03,  5.85171800e+03,  1.08804451e+04,\n",
       "        5.04101530e+03,  3.85462571e+03,  2.77620891e+03,  2.94732110e+04,\n",
       "        1.40562707e+04,  7.92274783e+03,  3.64849992e+04,  1.31306940e+04,\n",
       "        2.01009702e+03,  1.18132800e+04,  5.98232568e+03,  1.18913444e+04,\n",
       "        9.17867914e+03,  6.36883108e+03,  1.13503993e+04,  5.41379855e+03,\n",
       "        4.87811193e+03,  2.49761422e+04,  4.44909515e+03,  3.66727250e+04,\n",
       "        2.85362101e+04,  2.54313667e+04,  9.67092655e+03,  1.30690725e+04,\n",
       "        1.22216263e+04,  5.53347311e+03,  1.70822826e+03,  8.99650737e+03,\n",
       "        8.88983250e+02, -1.65650824e+03,  1.02335516e+04,  8.52301033e+03,\n",
       "        7.28914830e+03,  3.87903606e+04,  4.62699835e+03,  1.51597409e+04,\n",
       "        3.53368566e+04,  7.01593372e+03,  1.07799081e+04,  4.10760868e+04,\n",
       "        5.47009080e+03,  1.64249594e+04,  1.25078743e+04,  2.71442682e+04,\n",
       "        1.31485000e+04,  5.49070351e+03,  1.26470576e+04,  9.82760264e+03,\n",
       "        1.19807958e+04,  8.26937611e+03,  2.89544429e+04,  1.36659199e+04,\n",
       "        8.89955055e+03,  3.53073412e+04,  1.28090684e+04,  6.85942525e+03,\n",
       "        1.17438369e+04,  8.65866514e+03,  3.14739775e+04,  7.10810862e+03,\n",
       "        1.39140138e+04,  3.56912938e+04,  5.44883264e+03,  4.12165241e+03,\n",
       "        1.63172125e+04,  1.13058832e+04,  1.38955052e+04,  1.57502254e+04,\n",
       "        1.53283790e+04,  3.01698336e+04,  1.42178240e+04,  1.46023975e+04,\n",
       "        3.89799059e+04,  1.35389358e+04,  9.30855971e+03,  3.25932215e+04,\n",
       "        5.16942752e+03,  7.16252552e+03,  2.72332306e+03,  3.23055564e+04,\n",
       "        3.43125842e+04,  2.80981621e+04,  2.35400014e+03,  3.12814214e+04,\n",
       "        4.00802984e+04,  1.08535637e+04,  4.26110729e+03,  2.08026567e+03,\n",
       "        3.29806676e+03,  4.36498495e+03,  1.48563536e+04,  1.32108282e+04,\n",
       "        2.71173251e+04,  1.02952958e+03,  5.60680402e+03,  2.83379832e+04,\n",
       "        1.59254028e+04,  5.96411461e+03,  3.73497176e+04,  9.63105029e+03,\n",
       "        3.00211198e+04,  5.45095335e+03,  1.54707200e+04,  9.88418709e+03,\n",
       "        3.30274184e+04,  6.55307379e+03,  7.93957924e+03,  1.17777302e+04,\n",
       "        1.29020968e+04,  4.50033562e+02,  1.38336838e+04,  1.19820244e+04,\n",
       "        2.49659316e+04,  1.37955377e+04,  1.43032041e+04,  8.88447596e+03,\n",
       "        3.16788910e+04,  2.48167912e+03,  2.58711330e+04,  2.87394189e+04,\n",
       "        1.19704378e+04,  1.46298263e+04,  9.13532568e+03,  1.58750785e+04,\n",
       "        1.28541158e+03,  9.19528484e+03,  1.99178391e+03,  4.15660994e+03,\n",
       "        1.19656817e+04,  2.59027999e+03,  9.83444444e+03])"
      ]
     },
     "execution_count": 64,
     "metadata": {},
     "output_type": "execute_result"
    }
   ],
   "source": [
    "y_predict"
   ]
  },
  {
   "cell_type": "code",
   "execution_count": 65,
   "id": "e5e09a9f",
   "metadata": {},
   "outputs": [
    {
     "name": "stdout",
     "output_type": "stream",
     "text": [
      "-12717.776890634846\n"
     ]
    }
   ],
   "source": [
    "print(regress.intercept_)"
   ]
  },
  {
   "cell_type": "code",
   "execution_count": 66,
   "id": "4019bc74",
   "metadata": {},
   "outputs": [
    {
     "name": "stdout",
     "output_type": "stream",
     "text": [
      "[  264.89569737  -109.3579536    309.98022008   581.86365189\n",
      " 23878.24997228   451.0508242 ]\n"
     ]
    }
   ],
   "source": [
    "print(regress.coef_)"
   ]
  },
  {
   "cell_type": "code",
   "execution_count": 67,
   "id": "66637f1d",
   "metadata": {},
   "outputs": [
    {
     "name": "stdout",
     "output_type": "stream",
     "text": [
      "Mean Absolute Error:  4415.178289895078\n",
      "Mean Squared Error: 40814159.8159518\n",
      "Root Mean Squared Error: 6388.5960755045235\n"
     ]
    }
   ],
   "source": [
    "from sklearn import metrics\n",
    "print('Mean Absolute Error: ',metrics.mean_absolute_error(y_test,y_predict))\n",
    "print('Mean Squared Error:', metrics.mean_squared_error(y_test, y_predict))\n",
    "print('Root Mean Squared Error:', np.sqrt(metrics.mean_squared_error(y_test, y_predict)))"
   ]
  },
  {
   "cell_type": "code",
   "execution_count": null,
   "id": "da20554e",
   "metadata": {},
   "outputs": [],
   "source": []
  }
 ],
 "metadata": {
  "kernelspec": {
   "display_name": "Python 3 (ipykernel)",
   "language": "python",
   "name": "python3"
  },
  "language_info": {
   "codemirror_mode": {
    "name": "ipython",
    "version": 3
   },
   "file_extension": ".py",
   "mimetype": "text/x-python",
   "name": "python",
   "nbconvert_exporter": "python",
   "pygments_lexer": "ipython3",
   "version": "3.9.7"
  }
 },
 "nbformat": 4,
 "nbformat_minor": 5
}
